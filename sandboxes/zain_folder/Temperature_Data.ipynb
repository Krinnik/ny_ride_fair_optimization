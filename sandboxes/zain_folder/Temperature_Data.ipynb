{
 "cells": [
  {
   "cell_type": "code",
   "execution_count": 3,
   "metadata": {},
   "outputs": [
    {
     "name": "stdout",
     "output_type": "stream",
     "text": [
      "Requirement already satisfied: meteostat in /opt/anaconda3/lib/python3.12/site-packages (1.6.8)\n",
      "Requirement already satisfied: pandas>=1.1 in /opt/anaconda3/lib/python3.12/site-packages (from meteostat) (2.2.2)\n",
      "Requirement already satisfied: pytz in /opt/anaconda3/lib/python3.12/site-packages (from meteostat) (2024.1)\n",
      "Requirement already satisfied: numpy in /opt/anaconda3/lib/python3.12/site-packages (from meteostat) (1.26.4)\n",
      "Requirement already satisfied: python-dateutil>=2.8.2 in /opt/anaconda3/lib/python3.12/site-packages (from pandas>=1.1->meteostat) (2.9.0.post0)\n",
      "Requirement already satisfied: tzdata>=2022.7 in /opt/anaconda3/lib/python3.12/site-packages (from pandas>=1.1->meteostat) (2023.3)\n",
      "Requirement already satisfied: six>=1.5 in /opt/anaconda3/lib/python3.12/site-packages (from python-dateutil>=2.8.2->pandas>=1.1->meteostat) (1.16.0)\n"
     ]
    }
   ],
   "source": [
    "#Trying to use the meteostat library to pull date time specific data for a city\n",
    "\n",
    "#!pip install meteostat\n"
   ]
  },
  {
   "cell_type": "code",
   "execution_count": 1,
   "metadata": {},
   "outputs": [],
   "source": [
    "# Importing specific files that are necessary for data\n",
    "import pandas as pd\n",
    "from meteostat import Stations\n",
    "from datetime import datetime\n",
    "from meteostat import Hourly\n"
   ]
  },
  {
   "cell_type": "code",
   "execution_count": 2,
   "metadata": {},
   "outputs": [
    {
     "name": "stdout",
     "output_type": "stream",
     "text": [
      "                     temp  dwpt  rhum  prcp  snow   wdir  wspd  wpgt    pres  \\\n",
      "time                                                                           \n",
      "2024-01-01 00:00:00   6.0  -1.9  57.0   0.0   NaN  260.0  11.0   NaN  1017.0   \n",
      "2024-01-01 01:00:00   5.6  -2.3  57.0   0.0   NaN  260.0  11.2   NaN  1016.4   \n",
      "2024-01-01 02:00:00   5.6  -1.8  59.0   0.0   NaN  260.0   9.4   NaN  1016.4   \n",
      "2024-01-01 03:00:00   5.6  -1.1  62.0   0.0   NaN  250.0   9.4   NaN  1016.4   \n",
      "2024-01-01 04:00:00   5.6  -0.7  64.0   0.0   NaN  260.0   9.4   NaN  1016.5   \n",
      "\n",
      "                     tsun  coco  \n",
      "time                             \n",
      "2024-01-01 00:00:00   NaN   3.0  \n",
      "2024-01-01 01:00:00   NaN   3.0  \n",
      "2024-01-01 02:00:00   NaN   3.0  \n",
      "2024-01-01 03:00:00   NaN   3.0  \n",
      "2024-01-01 04:00:00   NaN   3.0  \n",
      "<class 'pandas.core.frame.DataFrame'>\n",
      "DatetimeIndex: 8784 entries, 2024-01-01 00:00:00 to 2024-12-31 23:00:00\n",
      "Data columns (total 11 columns):\n",
      " #   Column  Non-Null Count  Dtype  \n",
      "---  ------  --------------  -----  \n",
      " 0   temp    8739 non-null   float64\n",
      " 1   dwpt    8737 non-null   float64\n",
      " 2   rhum    8737 non-null   float64\n",
      " 3   prcp    8523 non-null   float64\n",
      " 4   snow    0 non-null      float64\n",
      " 5   wdir    8735 non-null   float64\n",
      " 6   wspd    8784 non-null   float64\n",
      " 7   wpgt    0 non-null      float64\n",
      " 8   pres    8728 non-null   float64\n",
      " 9   tsun    0 non-null      float64\n",
      " 10  coco    8523 non-null   float64\n",
      "dtypes: float64(11)\n",
      "memory usage: 823.5 KB\n",
      "None\n"
     ]
    }
   ],
   "source": [
    "# Set time period\n",
    "start = datetime(2024, 1, 1)\n",
    "end = datetime(2024, 12, 31, 23, 59)\n",
    "\n",
    "# Get hourly data for New York/ Wall Street ICOA Weather Station\n",
    "data = Hourly('KJRB0', start, end)\n",
    "data = data.fetch()\n",
    "\n",
    "# Convert data to dataframe for massaging\n",
    "wallstreet_temp_df = pd.DataFrame(data)\n",
    "print(wallstreet_temp_df.head())\n",
    "print(wallstreet_temp_df.info())\n"
   ]
  },
  {
   "cell_type": "code",
   "execution_count": 3,
   "metadata": {},
   "outputs": [
    {
     "data": {
      "text/html": [
       "<div>\n",
       "<style scoped>\n",
       "    .dataframe tbody tr th:only-of-type {\n",
       "        vertical-align: middle;\n",
       "    }\n",
       "\n",
       "    .dataframe tbody tr th {\n",
       "        vertical-align: top;\n",
       "    }\n",
       "\n",
       "    .dataframe thead th {\n",
       "        text-align: right;\n",
       "    }\n",
       "</style>\n",
       "<table border=\"1\" class=\"dataframe\">\n",
       "  <thead>\n",
       "    <tr style=\"text-align: right;\">\n",
       "      <th></th>\n",
       "      <th>temp</th>\n",
       "      <th>prcp</th>\n",
       "    </tr>\n",
       "    <tr>\n",
       "      <th>time</th>\n",
       "      <th></th>\n",
       "      <th></th>\n",
       "    </tr>\n",
       "  </thead>\n",
       "  <tbody>\n",
       "    <tr>\n",
       "      <th>2024-01-01 00:00:00</th>\n",
       "      <td>6.0</td>\n",
       "      <td>0.0</td>\n",
       "    </tr>\n",
       "    <tr>\n",
       "      <th>2024-01-01 01:00:00</th>\n",
       "      <td>5.6</td>\n",
       "      <td>0.0</td>\n",
       "    </tr>\n",
       "    <tr>\n",
       "      <th>2024-01-01 02:00:00</th>\n",
       "      <td>5.6</td>\n",
       "      <td>0.0</td>\n",
       "    </tr>\n",
       "    <tr>\n",
       "      <th>2024-01-01 03:00:00</th>\n",
       "      <td>5.6</td>\n",
       "      <td>0.0</td>\n",
       "    </tr>\n",
       "    <tr>\n",
       "      <th>2024-01-01 04:00:00</th>\n",
       "      <td>5.6</td>\n",
       "      <td>0.0</td>\n",
       "    </tr>\n",
       "  </tbody>\n",
       "</table>\n",
       "</div>"
      ],
      "text/plain": [
       "                     temp  prcp\n",
       "time                           \n",
       "2024-01-01 00:00:00   6.0   0.0\n",
       "2024-01-01 01:00:00   5.6   0.0\n",
       "2024-01-01 02:00:00   5.6   0.0\n",
       "2024-01-01 03:00:00   5.6   0.0\n",
       "2024-01-01 04:00:00   5.6   0.0"
      ]
     },
     "execution_count": 3,
     "metadata": {},
     "output_type": "execute_result"
    }
   ],
   "source": [
    "# Reduce dataset to only features of interest, Precipitation & Temperature\n",
    "wallstreet_temp_df = wallstreet_temp_df[['temp', 'prcp']]\n",
    "wallstreet_temp_df.head()"
   ]
  },
  {
   "cell_type": "code",
   "execution_count": 4,
   "metadata": {},
   "outputs": [
    {
     "data": {
      "text/html": [
       "<div>\n",
       "<style scoped>\n",
       "    .dataframe tbody tr th:only-of-type {\n",
       "        vertical-align: middle;\n",
       "    }\n",
       "\n",
       "    .dataframe tbody tr th {\n",
       "        vertical-align: top;\n",
       "    }\n",
       "\n",
       "    .dataframe thead th {\n",
       "        text-align: right;\n",
       "    }\n",
       "</style>\n",
       "<table border=\"1\" class=\"dataframe\">\n",
       "  <thead>\n",
       "    <tr style=\"text-align: right;\">\n",
       "      <th></th>\n",
       "      <th>temp</th>\n",
       "      <th>prcp</th>\n",
       "      <th>temp(f)</th>\n",
       "    </tr>\n",
       "    <tr>\n",
       "      <th>time</th>\n",
       "      <th></th>\n",
       "      <th></th>\n",
       "      <th></th>\n",
       "    </tr>\n",
       "  </thead>\n",
       "  <tbody>\n",
       "    <tr>\n",
       "      <th>2024-01-01 00:00:00</th>\n",
       "      <td>6.0</td>\n",
       "      <td>0.0</td>\n",
       "      <td>42.80</td>\n",
       "    </tr>\n",
       "    <tr>\n",
       "      <th>2024-01-01 01:00:00</th>\n",
       "      <td>5.6</td>\n",
       "      <td>0.0</td>\n",
       "      <td>42.08</td>\n",
       "    </tr>\n",
       "    <tr>\n",
       "      <th>2024-01-01 02:00:00</th>\n",
       "      <td>5.6</td>\n",
       "      <td>0.0</td>\n",
       "      <td>42.08</td>\n",
       "    </tr>\n",
       "    <tr>\n",
       "      <th>2024-01-01 03:00:00</th>\n",
       "      <td>5.6</td>\n",
       "      <td>0.0</td>\n",
       "      <td>42.08</td>\n",
       "    </tr>\n",
       "    <tr>\n",
       "      <th>2024-01-01 04:00:00</th>\n",
       "      <td>5.6</td>\n",
       "      <td>0.0</td>\n",
       "      <td>42.08</td>\n",
       "    </tr>\n",
       "  </tbody>\n",
       "</table>\n",
       "</div>"
      ],
      "text/plain": [
       "                     temp  prcp  temp(f)\n",
       "time                                    \n",
       "2024-01-01 00:00:00   6.0   0.0    42.80\n",
       "2024-01-01 01:00:00   5.6   0.0    42.08\n",
       "2024-01-01 02:00:00   5.6   0.0    42.08\n",
       "2024-01-01 03:00:00   5.6   0.0    42.08\n",
       "2024-01-01 04:00:00   5.6   0.0    42.08"
      ]
     },
     "execution_count": 4,
     "metadata": {},
     "output_type": "execute_result"
    }
   ],
   "source": [
    "# Converting Temp from Celcius to Fahrenheit\n",
    "tempf = (wallstreet_temp_df['temp']*9/5)+32\n",
    "wallstreet_temp_df['temp(f)'] = tempf\n",
    "wallstreet_temp_df.head()"
   ]
  },
  {
   "cell_type": "code",
   "execution_count": 5,
   "metadata": {},
   "outputs": [
    {
     "data": {
      "text/html": [
       "<div>\n",
       "<style scoped>\n",
       "    .dataframe tbody tr th:only-of-type {\n",
       "        vertical-align: middle;\n",
       "    }\n",
       "\n",
       "    .dataframe tbody tr th {\n",
       "        vertical-align: top;\n",
       "    }\n",
       "\n",
       "    .dataframe thead th {\n",
       "        text-align: right;\n",
       "    }\n",
       "</style>\n",
       "<table border=\"1\" class=\"dataframe\">\n",
       "  <thead>\n",
       "    <tr style=\"text-align: right;\">\n",
       "      <th></th>\n",
       "      <th>prcp</th>\n",
       "      <th>temp(f)</th>\n",
       "    </tr>\n",
       "    <tr>\n",
       "      <th>time</th>\n",
       "      <th></th>\n",
       "      <th></th>\n",
       "    </tr>\n",
       "  </thead>\n",
       "  <tbody>\n",
       "    <tr>\n",
       "      <th>2024-01-01 00:00:00</th>\n",
       "      <td>0.0</td>\n",
       "      <td>42.80</td>\n",
       "    </tr>\n",
       "    <tr>\n",
       "      <th>2024-01-01 01:00:00</th>\n",
       "      <td>0.0</td>\n",
       "      <td>42.08</td>\n",
       "    </tr>\n",
       "    <tr>\n",
       "      <th>2024-01-01 02:00:00</th>\n",
       "      <td>0.0</td>\n",
       "      <td>42.08</td>\n",
       "    </tr>\n",
       "    <tr>\n",
       "      <th>2024-01-01 03:00:00</th>\n",
       "      <td>0.0</td>\n",
       "      <td>42.08</td>\n",
       "    </tr>\n",
       "    <tr>\n",
       "      <th>2024-01-01 04:00:00</th>\n",
       "      <td>0.0</td>\n",
       "      <td>42.08</td>\n",
       "    </tr>\n",
       "    <tr>\n",
       "      <th>...</th>\n",
       "      <td>...</td>\n",
       "      <td>...</td>\n",
       "    </tr>\n",
       "    <tr>\n",
       "      <th>2024-12-31 19:00:00</th>\n",
       "      <td>0.0</td>\n",
       "      <td>53.06</td>\n",
       "    </tr>\n",
       "    <tr>\n",
       "      <th>2024-12-31 20:00:00</th>\n",
       "      <td>0.0</td>\n",
       "      <td>53.06</td>\n",
       "    </tr>\n",
       "    <tr>\n",
       "      <th>2024-12-31 21:00:00</th>\n",
       "      <td>0.0</td>\n",
       "      <td>50.00</td>\n",
       "    </tr>\n",
       "    <tr>\n",
       "      <th>2024-12-31 22:00:00</th>\n",
       "      <td>0.0</td>\n",
       "      <td>48.02</td>\n",
       "    </tr>\n",
       "    <tr>\n",
       "      <th>2024-12-31 23:00:00</th>\n",
       "      <td>0.0</td>\n",
       "      <td>48.02</td>\n",
       "    </tr>\n",
       "  </tbody>\n",
       "</table>\n",
       "<p>8784 rows × 2 columns</p>\n",
       "</div>"
      ],
      "text/plain": [
       "                     prcp  temp(f)\n",
       "time                              \n",
       "2024-01-01 00:00:00   0.0    42.80\n",
       "2024-01-01 01:00:00   0.0    42.08\n",
       "2024-01-01 02:00:00   0.0    42.08\n",
       "2024-01-01 03:00:00   0.0    42.08\n",
       "2024-01-01 04:00:00   0.0    42.08\n",
       "...                   ...      ...\n",
       "2024-12-31 19:00:00   0.0    53.06\n",
       "2024-12-31 20:00:00   0.0    53.06\n",
       "2024-12-31 21:00:00   0.0    50.00\n",
       "2024-12-31 22:00:00   0.0    48.02\n",
       "2024-12-31 23:00:00   0.0    48.02\n",
       "\n",
       "[8784 rows x 2 columns]"
      ]
     },
     "execution_count": 5,
     "metadata": {},
     "output_type": "execute_result"
    }
   ],
   "source": [
    "# Dropping 'temp' in celcius as its not needed\n",
    "wallstreet_temp_df = wallstreet_temp_df.drop('temp', axis=1)\n",
    "wallstreet_temp_df"
   ]
  },
  {
   "cell_type": "code",
   "execution_count": 6,
   "metadata": {},
   "outputs": [
    {
     "name": "stdout",
     "output_type": "stream",
     "text": [
      "<class 'pandas.core.frame.DataFrame'>\n",
      "DatetimeIndex: 8784 entries, 2024-01-01 00:00:00 to 2024-12-31 23:00:00\n",
      "Data columns (total 2 columns):\n",
      " #   Column   Non-Null Count  Dtype  \n",
      "---  ------   --------------  -----  \n",
      " 0   prcp     8523 non-null   float64\n",
      " 1   temp(f)  8739 non-null   float64\n",
      "dtypes: float64(2)\n",
      "memory usage: 205.9 KB\n",
      "None\n",
      "[ 0.   0.4  1.2  1.8  2.8  2.5  1.7  1.3  0.5  0.1  0.2  0.3  0.7  1.5\n",
      "  0.9  3.4  4.5  2.3  3.5  4.4  3.8  7.4 10.4  1.9  0.6  0.8  2.7  2.\n",
      "  4.   9.5 14.4 13.3  1.   1.1  3.   1.4  1.6  2.6  2.2  3.9  5.   3.2\n",
      "  3.6  5.9  9.   4.6  3.1  5.7  4.7  7.1  8.1  6.1  8.9 11.3  5.8  2.1\n",
      "  2.9  6.2  2.4  7.8  4.9  4.2  3.7  5.5  6.   4.8  5.3  8.3  6.4  3.3\n",
      "  6.9  nan  5.6]\n"
     ]
    }
   ],
   "source": [
    "#checking to see if we have any null values in Preciptiation & Temp\n",
    "print(wallstreet_temp_df.info())\n",
    "print(wallstreet_temp_df['prcp'].unique())\n"
   ]
  },
  {
   "cell_type": "code",
   "execution_count": 7,
   "metadata": {},
   "outputs": [],
   "source": [
    "# since we have some 'nan' values in Precipitation, we'll replace those with 0\n",
    "wallstreet_temp_df['prcp'] = wallstreet_temp_df['prcp'].fillna(0)\n"
   ]
  },
  {
   "cell_type": "code",
   "execution_count": 8,
   "metadata": {},
   "outputs": [],
   "source": [
    "# since we have 'nan' values in Temperature, we'll replace them with an average temperature of 65 deg\n",
    "wallstreet_temp_df['temp(f)']=wallstreet_temp_df['temp(f)'].fillna(65)\n"
   ]
  },
  {
   "cell_type": "code",
   "execution_count": 9,
   "metadata": {},
   "outputs": [
    {
     "name": "stdout",
     "output_type": "stream",
     "text": [
      "<class 'pandas.core.frame.DataFrame'>\n",
      "DatetimeIndex: 8784 entries, 2024-01-01 00:00:00 to 2024-12-31 23:00:00\n",
      "Data columns (total 2 columns):\n",
      " #   Column   Non-Null Count  Dtype  \n",
      "---  ------   --------------  -----  \n",
      " 0   prcp     8784 non-null   float64\n",
      " 1   temp(f)  8784 non-null   float64\n",
      "dtypes: float64(2)\n",
      "memory usage: 205.9 KB\n"
     ]
    },
    {
     "data": {
      "text/plain": [
       "<bound method DataFrame.sort_index of                      prcp  temp(f)\n",
       "time                              \n",
       "2024-01-01 00:00:00   0.0    42.80\n",
       "2024-01-01 01:00:00   0.0    42.08\n",
       "2024-01-01 02:00:00   0.0    42.08\n",
       "2024-01-01 03:00:00   0.0    42.08\n",
       "2024-01-01 04:00:00   0.0    42.08\n",
       "...                   ...      ...\n",
       "2024-12-31 19:00:00   0.0    53.06\n",
       "2024-12-31 20:00:00   0.0    53.06\n",
       "2024-12-31 21:00:00   0.0    50.00\n",
       "2024-12-31 22:00:00   0.0    48.02\n",
       "2024-12-31 23:00:00   0.0    48.02\n",
       "\n",
       "[8784 rows x 2 columns]>"
      ]
     },
     "execution_count": 9,
     "metadata": {},
     "output_type": "execute_result"
    }
   ],
   "source": [
    "wallstreet_temp_df.info()\n",
    "wallstreet_temp_df.sort_index"
   ]
  },
  {
   "cell_type": "code",
   "execution_count": 10,
   "metadata": {},
   "outputs": [],
   "source": [
    "# converting to csv\n",
    "wallstreet_temp_df.to_csv('NewYorkCity_Temperature',index=True)\n"
   ]
  }
 ],
 "metadata": {
  "kernelspec": {
   "display_name": "base",
   "language": "python",
   "name": "python3"
  },
  "language_info": {
   "codemirror_mode": {
    "name": "ipython",
    "version": 3
   },
   "file_extension": ".py",
   "mimetype": "text/x-python",
   "name": "python",
   "nbconvert_exporter": "python",
   "pygments_lexer": "ipython3",
   "version": "3.12.7"
  }
 },
 "nbformat": 4,
 "nbformat_minor": 2
}
